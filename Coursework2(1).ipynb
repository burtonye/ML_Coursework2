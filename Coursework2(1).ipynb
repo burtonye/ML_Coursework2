{
  "nbformat": 4,
  "nbformat_minor": 0,
  "metadata": {
    "kernelspec": {
      "display_name": "Python 2",
      "language": "python",
      "name": "python2"
    },
    "language_info": {
      "codemirror_mode": {
        "name": "ipython",
        "version": 2
      },
      "file_extension": ".py",
      "mimetype": "text/x-python",
      "name": "python",
      "nbconvert_exporter": "python",
      "pygments_lexer": "ipython2",
      "version": "2.7.5"
    },
    "colab": {
      "name": "Coursework2(1).ipynb",
      "provenance": []
    }
  },
  "cells": [
    {
      "cell_type": "markdown",
      "metadata": {
        "id": "tpTFIgSUSTXO",
        "colab_type": "text"
      },
      "source": [
        "# Coursework 2\n",
        "\n",
        "### Deadline: 16th December 2019, 4pm\n",
        "### Submission format\n",
        "Solve all the question directly in this notebook. Some tasks require writing and running code. Other times you are asked to write answers to questions within the 'Markdown' cells and the answers are propmted by  __Answer:__. \n",
        "\n",
        "Submit the solved Jupyter notebooks with the code and answers to KEATS. Make sure that all your code is running.You do not need to submit the data files with your notebooks. Your submission should consists of a single solved Python notebook file named  __CW2_Surname_Forname.ipynb__. \n",
        "\n",
        "Marks obtained in this coursework will be converted to __25% of your final grade__.\n",
        "\n",
        "Any questions about the coursework should be sent to maria.murgasova@kcl.ac.uk"
      ]
    },
    {
      "cell_type": "markdown",
      "metadata": {
        "id": "ksV42wqfSTXc",
        "colab_type": "text"
      },
      "source": [
        "# Question 1\n",
        "\n",
        "**[Total: 30 marks]**"
      ]
    },
    {
      "cell_type": "markdown",
      "metadata": {
        "id": "d7HxtARZSTXf",
        "colab_type": "text"
      },
      "source": [
        "### Breast cancer dataset\n",
        "\n",
        "The breast cancer dataset is available in `sklearn` and can be loaded and explored using the code below:"
      ]
    },
    {
      "cell_type": "code",
      "metadata": {
        "id": "SZ1CtHzRSTXw",
        "colab_type": "code",
        "outputId": "40326d0a-c3fd-4794-ee3b-7627c0eab63f",
        "colab": {
          "base_uri": "https://localhost:8080/",
          "height": 228
        }
      },
      "source": [
        "from sklearn import datasets\n",
        "\n",
        "data = datasets.load_breast_cancer()\n",
        "\n",
        "print(data.keys())\n",
        "print('\\n Features: \\n', data.feature_names)\n",
        "print('\\n Labels: ', data.target_names)\n"
      ],
      "execution_count": 1,
      "outputs": [
        {
          "output_type": "stream",
          "text": [
            "['target', 'DESCR', 'target_names', 'feature_names', 'data', 'filename']\n",
            "('\\n Features: \\n', array(['mean radius', 'mean texture', 'mean perimeter', 'mean area',\n",
            "       'mean smoothness', 'mean compactness', 'mean concavity',\n",
            "       'mean concave points', 'mean symmetry', 'mean fractal dimension',\n",
            "       'radius error', 'texture error', 'perimeter error', 'area error',\n",
            "       'smoothness error', 'compactness error', 'concavity error',\n",
            "       'concave points error', 'symmetry error',\n",
            "       'fractal dimension error', 'worst radius', 'worst texture',\n",
            "       'worst perimeter', 'worst area', 'worst smoothness',\n",
            "       'worst compactness', 'worst concavity', 'worst concave points',\n",
            "       'worst symmetry', 'worst fractal dimension'], dtype='|S23'))\n",
            "('\\n Labels: ', array(['malignant', 'benign'], dtype='|S9'))\n"
          ],
          "name": "stdout"
        }
      ]
    },
    {
      "cell_type": "markdown",
      "metadata": {
        "id": "FtmxDmkJSTX4",
        "colab_type": "text"
      },
      "source": [
        "In the code below we create our usual `Features` and `Labels` that are `numpy` arrays and scale the features using `StandardScaler`"
      ]
    },
    {
      "cell_type": "code",
      "metadata": {
        "id": "WoOg-efpSTX6",
        "colab_type": "code",
        "outputId": "8a10db4f-dc2e-44e9-ac6e-82aeb6df53e4",
        "colab": {
          "base_uri": "https://localhost:8080/",
          "height": 70
        }
      },
      "source": [
        "from sklearn.preprocessing import StandardScaler\n",
        "import numpy as np\n",
        "\n",
        "Features = StandardScaler().fit_transform(data.data)\n",
        "Labels = data.target\n",
        "\n",
        "print('Features dim: ', Features.shape)\n",
        "print('Labels dim: ', Labels.shape)\n",
        "print('We have {} samples and {} features.'.format(Features.shape[0],Features.shape[1]))"
      ],
      "execution_count": 2,
      "outputs": [
        {
          "output_type": "stream",
          "text": [
            "('Features dim: ', (569, 30))\n",
            "('Labels dim: ', (569,))\n",
            "We have 569 samples and 30 features.\n"
          ],
          "name": "stdout"
        }
      ]
    },
    {
      "cell_type": "markdown",
      "metadata": {
        "id": "VGoLaiizSTYC",
        "colab_type": "text"
      },
      "source": [
        "### Explore structure of the data\n",
        "\n",
        "**Task 1.1 [3 marks]**: Use PCA to reduce the features to two dimensions and plot the reduced data highlighting the labels. To improve visualisation, make the points in the plots transparent by setting `alpha` to 0.5. Are there clear clusters in the data?"
      ]
    },
    {
      "cell_type": "code",
      "metadata": {
        "id": "hDKuaJYpSTYG",
        "colab_type": "code",
        "colab": {}
      },
      "source": [
        "import matplotlib.pyplot as plt\n",
        "%matplotlib inline\n",
        "\n",
        "# Perform PCA\n",
        "import pandas as pd\n",
        "from sklearn.decomposition import PCA\n",
        "pca = PCA(n_components =2)\n",
        "principalComponents=pca.fit_transform(Features)\n",
        "principalDf = pd.DataFrame(data = principalComponents,\n",
        "                          columns = ['PC1', 'PC2'])\n",
        "#PCA_data = np.append(principalDf, Labels[:,np.newaxis],axis=1)    keeping in np.array\n",
        "PCA_data = pd.concat([principalDf,pd.DataFrame({'Labels':Labels})], axis =1)\n",
        "# Plot reduced data"
      ],
      "execution_count": 0,
      "outputs": []
    },
    {
      "cell_type": "code",
      "metadata": {
        "id": "D4m1-HKASTYL",
        "colab_type": "code",
        "outputId": "52737476-9161-4c38-ccee-b4b1ddf9fe65",
        "colab": {
          "base_uri": "https://localhost:8080/",
          "height": 523
        }
      },
      "source": [
        "fig = plt.figure(figsize = (8,8))\n",
        "ax = fig.add_subplot(1,1,1) \n",
        "ax.set_xlabel('Principal Component 1', fontsize = 15)\n",
        "ax.set_ylabel('Principal Component 2', fontsize = 15)\n",
        "ax.set_title('2 component PCA', fontsize = 20)\n",
        "\n",
        "targets = [0, 1]\n",
        "colors = ['r', 'g']\n",
        "for target, color in zip(targets,colors):\n",
        "    indicesToKeep = PCA_data['Labels'] == target\n",
        "    ax.scatter(PCA_data.loc[indicesToKeep, 'PC1']\n",
        "               , PCA_data.loc[indicesToKeep, 'PC2']\n",
        "               , c = color\n",
        "               , alpha = 0.5\n",
        "               , s = 50)\n",
        "ax.legend(targets)\n",
        "ax.grid()\n"
      ],
      "execution_count": 4,
      "outputs": [
        {
          "output_type": "display_data",
          "data": {
            "image/png": "[encoded data removed]",
            "text/plain": [
              "<Figure size 576x576 with 1 Axes>"
            ]
          },
          "metadata": {
            "tags": []
          }
        }
      ]
    },
    {
      "cell_type": "markdown",
      "metadata": {
        "id": "hAM_vejbSTYR",
        "colab_type": "text"
      },
      "source": [
        "__Answer:__\n",
        "\n",
        "## While we can generally see two clusters, they are not distinct and have significant overlap"
      ]
    },
    {
      "cell_type": "markdown",
      "metadata": {
        "id": "lyDmpQWWSTYU",
        "colab_type": "text"
      },
      "source": [
        "### Random forest classification\n",
        "\n",
        "**Task 1.2 [4 marks]:** Perform classification using Random Forest and calculate cross-validated accuracy. Extract and display the two most important features, including their names and importance values."
      ]
    },
    {
      "cell_type": "code",
      "metadata": {
        "id": "HWw1G1aWSTYW",
        "colab_type": "code",
        "outputId": "7d3cb15c-e045-4a3a-86cd-c651ffb774c4",
        "colab": {
          "base_uri": "https://localhost:8080/",
          "height": 34
        }
      },
      "source": [
        "# Fit and evaluate a random forest classifier\n",
        "from sklearn.ensemble import RandomForestRegressor\n",
        "from sklearn.model_selection import cross_val_score\n",
        " \n",
        "# Select and fit the model\n",
        "model = RandomForestRegressor(n_estimators=2)\n",
        "model.fit(Features,Labels)\n",
        "\n",
        "# Calculate CV RMSE\n",
        "scores = cross_val_score(model, Features, Labels, cv=10, scoring = 'neg_mean_squared_error')\n",
        "print('Cross-validated RMSE is ', round(np.sqrt(-scores.mean()),2))"
      ],
      "execution_count": 5,
      "outputs": [
        {
          "output_type": "stream",
          "text": [
            "('Cross-validated RMSE is ', 0.24)\n"
          ],
          "name": "stdout"
        }
      ]
    },
    {
      "cell_type": "code",
      "metadata": {
        "id": "PjK4100ESTYa",
        "colab_type": "code",
        "outputId": "28c939b3-bb48-4549-d7c5-1e70395c9547",
        "colab": {
          "base_uri": "https://localhost:8080/",
          "height": 34
        }
      },
      "source": [
        "# Identify and print the two most important features\n",
        "\n",
        "ind = np.argpartition(model.feature_importances_,-2)[-2:]\n",
        "print(data.feature_names[ind])"
      ],
      "execution_count": 6,
      "outputs": [
        {
          "output_type": "stream",
          "text": [
            "['worst concave points' 'worst perimeter']\n"
          ],
          "name": "stdout"
        }
      ]
    },
    {
      "cell_type": "markdown",
      "metadata": {
        "id": "qQhebKtxSTYe",
        "colab_type": "text"
      },
      "source": [
        "**Task 1.3 [6 marks]:** Visualise the results of the random forest classification. Perform following steps:\n",
        "* Perform PCA to reduce features to two dimensions\n",
        "* Calculate the 2D feature range for the reduced features\n",
        "* Predict the classification result for the 2D feature range and plot using `contourf`. *Hint: you will need to look up a method* `PCA.inverse_transform` *in sklearn help to predict the labels for the 2D feature range.*\n",
        "* Plot the reduced data with the labels highlighted on the same plot."
      ]
    },
    {
      "cell_type": "code",
      "metadata": {
        "id": "YcLvic26STYf",
        "colab_type": "code",
        "outputId": "61198a50-3bde-43eb-ba18-13fbead516c0",
        "colab": {
          "base_uri": "https://localhost:8080/",
          "height": 286
        }
      },
      "source": [
        "# Transform features using PCA\n",
        "pca = PCA(n_components =2)\n",
        "principalComponents=pca.fit_transform(Features)\n",
        "principalDf = pd.DataFrame(data = principalComponents,columns = ['PC1', 'PC2'])\n",
        "np.max(principalDf['PC1'])   #-5.56 to 16.3\n",
        "np.min(principalDf['PC2'])   #-7.78 to 12.57\n",
        "\n",
        "# Generate feature space\n",
        "\n",
        "plt.scatter(principalDf.loc[:,'PC1'],principalDf.loc[:,'PC2'])\n",
        "\n",
        "# Predict and plot labels for the features space\n",
        "\n",
        "\n",
        "# Plot reduced data\n",
        "\n"
      ],
      "execution_count": 7,
      "outputs": [
        {
          "output_type": "execute_result",
          "data": {
            "text/plain": [
              "<matplotlib.collections.PathCollection at 0x7fb051fcbb10>"
            ]
          },
          "metadata": {
            "tags": []
          },
          "execution_count": 7
        },
        {
          "output_type": "display_data",
          "data": {
            "image/png": "[encoded data removed]",
            "text/plain": [
              "<Figure size 432x288 with 1 Axes>"
            ]
          },
          "metadata": {
            "tags": []
          }
        }
      ]
    },
    {
      "cell_type": "markdown",
      "metadata": {
        "id": "DTSyOFXWSTYo",
        "colab_type": "text"
      },
      "source": [
        "### Neural network classification\n",
        "**Task 1.4  [4 marks]**: Neural Network has been trained and it was found that multi-layer perceptron with two hidden layers with `3` and `2` nodes and L2 norm regularisation parameter `1` result in optimal performance. Train the network with these parameters, calculate cross-validated accuracy and visualise the decision boundary as in Task 1.3."
      ]
    },
    {
      "cell_type": "code",
      "metadata": {
        "id": "dXbS9sHTSTYp",
        "colab_type": "code",
        "outputId": "66959031-8f19-4f8b-cb50-2a34cab25d72",
        "colab": {
          "base_uri": "https://localhost:8080/"
        }
      },
      "source": [
        "# Select and train the model\n",
        "from sklearn.neural_network import MLPClassifier\n",
        "clf = MLPClassifier(solver='lbfgs', alpha=1, hidden_layer_sizes=(3, 2), random_state=1)\n",
        "\n",
        "clf.fit(Features, Labels) \n",
        "\n",
        "# Calculate CV accuracy\n",
        "# Plot result\n"
      ],
      "execution_count": 0,
      "outputs": [
        {
          "output_type": "execute_result",
          "data": {
            "text/plain": [
              "MLPClassifier(activation='relu', alpha=1, batch_size='auto', beta_1=0.9,\n",
              "       beta_2=0.999, early_stopping=False, epsilon=1e-08,\n",
              "       hidden_layer_sizes=(3, 2), learning_rate='constant',\n",
              "       learning_rate_init=0.001, max_iter=200, momentum=0.9,\n",
              "       n_iter_no_change=10, nesterovs_momentum=True, power_t=0.5,\n",
              "       random_state=1, shuffle=True, solver='lbfgs', tol=0.0001,\n",
              "       validation_fraction=0.1, verbose=False, warm_start=False)"
            ]
          },
          "metadata": {
            "tags": []
          },
          "execution_count": 9
        }
      ]
    },
    {
      "cell_type": "markdown",
      "metadata": {
        "id": "zkez5Wt5STYt",
        "colab_type": "text"
      },
      "source": [
        "**Task 1.5: [4 marks]** Visualise the coefficients of all the layers using `bar` plots. Print out number of coefficients in each layer."
      ]
    },
    {
      "cell_type": "code",
      "metadata": {
        "id": "7bTMdMXhSTYv",
        "colab_type": "code",
        "colab": {}
      },
      "source": [
        ""
      ],
      "execution_count": 0,
      "outputs": []
    },
    {
      "cell_type": "markdown",
      "metadata": {
        "id": "WtXoKdJ4STYz",
        "colab_type": "text"
      },
      "source": [
        "### Feature selection\n",
        "**Task 1.6 [9 marks]**: You are asked to develop a simple test for detection of breast cancer that could be used in clinical practice. The requirements are \n",
        "* There should be as few measurements as possible\n",
        "* The method for prediction of breast cancer should be as simple as possible.\n",
        "* Accuracy needs to be as high as possible.\n",
        "\n",
        "Using feature selection methods that were covered in the lectures find the smallest number of features for predictions while preserving the accuracy as much as possible. Develop a test by training a linear classifier. Display the results of the classification, including the decision boundary, to visually assess the test. Print out the names of the selected features.\n",
        "\n",
        "Decribe your new test and how you arrived at the solution. Explain why this new test is suitable. Keep your description brief.\n",
        "\n",
        "*Hint: When reducing number of features don't look for highest performance, but rather smallest number of features for which performance does not drop significantly*"
      ]
    },
    {
      "cell_type": "code",
      "metadata": {
        "id": "2owm4JJSSTY0",
        "colab_type": "code",
        "colab": {}
      },
      "source": [
        ""
      ],
      "execution_count": 0,
      "outputs": []
    },
    {
      "cell_type": "markdown",
      "metadata": {
        "id": "7Wcg-74NSTY6",
        "colab_type": "text"
      },
      "source": [
        "__Answer:__"
      ]
    },
    {
      "cell_type": "markdown",
      "metadata": {
        "id": "u-OnDiwFSTY7",
        "colab_type": "text"
      },
      "source": [
        "# Question 2\n",
        "\n",
        "**[Total: 20 marks]**\n",
        "\n",
        "### Brain MRI\n",
        "\n",
        "The code below loads two images - T1 and T2 weighted MRI. In this question you will implement 2D Gaussian Mixture Model for segmentation of this multi-channel MRI."
      ]
    },
    {
      "cell_type": "code",
      "metadata": {
        "id": "yBBpsLGPSroo",
        "colab_type": "code",
        "colab": {}
      },
      "source": [
        ""
      ],
      "execution_count": 0,
      "outputs": []
    },
    {
      "cell_type": "code",
      "metadata": {
        "id": "QQ8toASrSTY9",
        "colab_type": "code",
        "outputId": "458f664d-1381-4d84-9063-73ef4c3a3022",
        "colab": {
          "base_uri": "https://localhost:8080/",
          "height": 385
        }
      },
      "source": [
        "# load  images \n",
        "T1 = plt.imread('T1.png')\n",
        "T2 = plt.imread('T2.png')\n",
        "\n",
        "# display images\n",
        "plt.figure(figsize = [10,4])\n",
        "plt.set_cmap('gray')\n",
        "plt.subplot(121)\n",
        "plt.imshow(T1)\n",
        "plt.title('T1', fontsize = 14)\n",
        "plt.subplot(122)\n",
        "plt.title('T2', fontsize = 14)\n",
        "plt.imshow(T2)"
      ],
      "execution_count": 0,
      "outputs": [
        {
          "output_type": "error",
          "ename": "IOError",
          "evalue": "ignored",
          "traceback": [
            "\u001b[0;31m\u001b[0m",
            "\u001b[0;31mIOError\u001b[0mTraceback (most recent call last)",
            "\u001b[0;32m<ipython-input-10-f35e29878d0c>\u001b[0m in \u001b[0;36m<module>\u001b[0;34m()\u001b[0m\n\u001b[0;32m----> 1\u001b[0;31m \u001b[0mT1\u001b[0m \u001b[0;34m=\u001b[0m \u001b[0mplt\u001b[0m\u001b[0;34m.\u001b[0m\u001b[0mimread\u001b[0m\u001b[0;34m(\u001b[0m\u001b[0;34m'T1.png'\u001b[0m\u001b[0;34m)\u001b[0m\u001b[0;34m\u001b[0m\u001b[0;34m\u001b[0m\u001b[0m\n\u001b[0m\u001b[1;32m      2\u001b[0m \u001b[0mT2\u001b[0m \u001b[0;34m=\u001b[0m \u001b[0mplt\u001b[0m\u001b[0;34m.\u001b[0m\u001b[0mimread\u001b[0m\u001b[0;34m(\u001b[0m\u001b[0;34m'T2.png'\u001b[0m\u001b[0;34m)\u001b[0m\u001b[0;34m\u001b[0m\u001b[0;34m\u001b[0m\u001b[0m\n\u001b[1;32m      3\u001b[0m \u001b[0;34m\u001b[0m\u001b[0m\n\u001b[1;32m      4\u001b[0m \u001b[0;31m# display images\u001b[0m\u001b[0;34m\u001b[0m\u001b[0;34m\u001b[0m\u001b[0;34m\u001b[0m\u001b[0m\n\u001b[1;32m      5\u001b[0m \u001b[0mplt\u001b[0m\u001b[0;34m.\u001b[0m\u001b[0mfigure\u001b[0m\u001b[0;34m(\u001b[0m\u001b[0mfigsize\u001b[0m \u001b[0;34m=\u001b[0m \u001b[0;34m[\u001b[0m\u001b[0;36m10\u001b[0m\u001b[0;34m,\u001b[0m\u001b[0;36m4\u001b[0m\u001b[0;34m]\u001b[0m\u001b[0;34m)\u001b[0m\u001b[0;34m\u001b[0m\u001b[0;34m\u001b[0m\u001b[0m\n",
            "\u001b[0;32m/usr/local/lib/python2.7/dist-packages/matplotlib/pyplot.pyc\u001b[0m in \u001b[0;36mimread\u001b[0;34m(*args, **kwargs)\u001b[0m\n\u001b[1;32m   2371\u001b[0m \u001b[0;34m@\u001b[0m\u001b[0mdocstring\u001b[0m\u001b[0;34m.\u001b[0m\u001b[0mcopy_dedent\u001b[0m\u001b[0;34m(\u001b[0m\u001b[0m_imread\u001b[0m\u001b[0;34m)\u001b[0m\u001b[0;34m\u001b[0m\u001b[0;34m\u001b[0m\u001b[0m\n\u001b[1;32m   2372\u001b[0m \u001b[0;32mdef\u001b[0m \u001b[0mimread\u001b[0m\u001b[0;34m(\u001b[0m\u001b[0;34m*\u001b[0m\u001b[0margs\u001b[0m\u001b[0;34m,\u001b[0m \u001b[0;34m**\u001b[0m\u001b[0mkwargs\u001b[0m\u001b[0;34m)\u001b[0m\u001b[0;34m:\u001b[0m\u001b[0;34m\u001b[0m\u001b[0;34m\u001b[0m\u001b[0m\n\u001b[0;32m-> 2373\u001b[0;31m     \u001b[0;32mreturn\u001b[0m \u001b[0m_imread\u001b[0m\u001b[0;34m(\u001b[0m\u001b[0;34m*\u001b[0m\u001b[0margs\u001b[0m\u001b[0;34m,\u001b[0m \u001b[0;34m**\u001b[0m\u001b[0mkwargs\u001b[0m\u001b[0;34m)\u001b[0m\u001b[0;34m\u001b[0m\u001b[0;34m\u001b[0m\u001b[0m\n\u001b[0m\u001b[1;32m   2374\u001b[0m \u001b[0;34m\u001b[0m\u001b[0m\n\u001b[1;32m   2375\u001b[0m \u001b[0;34m\u001b[0m\u001b[0m\n",
            "\u001b[0;32m/usr/local/lib/python2.7/dist-packages/matplotlib/image.pyc\u001b[0m in \u001b[0;36mimread\u001b[0;34m(fname, format)\u001b[0m\n\u001b[1;32m   1366\u001b[0m             \u001b[0;32mreturn\u001b[0m \u001b[0mhandler\u001b[0m\u001b[0;34m(\u001b[0m\u001b[0mfd\u001b[0m\u001b[0;34m)\u001b[0m\u001b[0;34m\u001b[0m\u001b[0;34m\u001b[0m\u001b[0m\n\u001b[1;32m   1367\u001b[0m         \u001b[0;32melse\u001b[0m\u001b[0;34m:\u001b[0m\u001b[0;34m\u001b[0m\u001b[0;34m\u001b[0m\u001b[0m\n\u001b[0;32m-> 1368\u001b[0;31m             \u001b[0;32mwith\u001b[0m \u001b[0mopen\u001b[0m\u001b[0;34m(\u001b[0m\u001b[0mfname\u001b[0m\u001b[0;34m,\u001b[0m \u001b[0;34m'rb'\u001b[0m\u001b[0;34m)\u001b[0m \u001b[0;32mas\u001b[0m \u001b[0mfd\u001b[0m\u001b[0;34m:\u001b[0m\u001b[0;34m\u001b[0m\u001b[0;34m\u001b[0m\u001b[0m\n\u001b[0m\u001b[1;32m   1369\u001b[0m                 \u001b[0;32mreturn\u001b[0m \u001b[0mhandler\u001b[0m\u001b[0;34m(\u001b[0m\u001b[0mfd\u001b[0m\u001b[0;34m)\u001b[0m\u001b[0;34m\u001b[0m\u001b[0;34m\u001b[0m\u001b[0m\n\u001b[1;32m   1370\u001b[0m     \u001b[0;32melse\u001b[0m\u001b[0;34m:\u001b[0m\u001b[0;34m\u001b[0m\u001b[0;34m\u001b[0m\u001b[0m\n",
            "\u001b[0;31mIOError\u001b[0m: [Errno 2] No such file or directory: 'T1.png'"
          ]
        }
      ]
    },
    {
      "cell_type": "markdown",
      "metadata": {
        "id": "MtgKkCgpSTZB",
        "colab_type": "text"
      },
      "source": [
        "**Task 2.1: [2 marks]** Calculate and plot 2D histogram of the multi-channel MRI. *Hint: matplotlib package has a suitable function*"
      ]
    },
    {
      "cell_type": "code",
      "metadata": {
        "id": "XcP8HC5CSTZC",
        "colab_type": "code",
        "colab": {}
      },
      "source": [
        "plt.hist(T1.ravel(), bins=256, range=(0.0,1.0),fc='k',ec='k')\n",
        "plt.title(\"T1 Image Histogram\")\n",
        "plt.show()\n",
        "\n",
        "plt.hist(T2.ravel(), bins=256, range=(0.0,1.0),fc='k',ec='k')\n",
        "plt.title(\"T2 Image Histogram\")\n",
        "plt.show()"
      ],
      "execution_count": 0,
      "outputs": []
    },
    {
      "cell_type": "markdown",
      "metadata": {
        "id": "g1tEocyNSTZJ",
        "colab_type": "text"
      },
      "source": [
        "### GMM segmentation\n",
        "**Task 2.2 [6 marks]:** Given the histogram above, decide how many clusters you need to segment the image. Perform GMM clustering using 2D feature space composed of these two images. Display the segmentation. Decide whether the segmentation worked by visual assessment."
      ]
    },
    {
      "cell_type": "code",
      "metadata": {
        "id": "83xt3sT3STZL",
        "colab_type": "code",
        "colab": {}
      },
      "source": [
        "# Select model\n",
        "from sklearn.mixture import GaussianMixture\n",
        "model=GaussianMixture(n_components=4)\n",
        "\n",
        "# Create feature matrix\n",
        "T1features2D = T1.reshape(-1,1)\n",
        "\n",
        "# Fit and predict\n",
        "model.fit(T1features2D)\n",
        "predicted_labels=model.predict(T1features2D)\n",
        "\n",
        "# Display segmentation\n",
        "plt.imshow(predicted_labels.reshape(256,213)) #256 by 213 is T1 shape\n",
        "plt.set_cmap('plasma')"
      ],
      "execution_count": 0,
      "outputs": []
    },
    {
      "cell_type": "code",
      "metadata": {
        "id": "391HPVO9STZQ",
        "colab_type": "code",
        "colab": {}
      },
      "source": [
        "# Select model\n",
        "from sklearn.mixture import GaussianMixture\n",
        "model=GaussianMixture(n_components=4)\n",
        "\n",
        "# Create feature matrix\n",
        "T2features2D = T2.reshape(-1,1)\n",
        "\n",
        "# Fit and predict\n",
        "model.fit(T2features2D)\n",
        "predicted_labels=model.predict(T2features2D)\n",
        "\n",
        "# Display segmentation\n",
        "plt.imshow(predicted_labels.reshape(256,213)) #256 by 213 is T2 shape\n",
        "plt.set_cmap('plasma')"
      ],
      "execution_count": 0,
      "outputs": []
    },
    {
      "cell_type": "markdown",
      "metadata": {
        "id": "9I2Me2XdSTZZ",
        "colab_type": "text"
      },
      "source": [
        "**Task 2.3: [6 marks]** Predict and display posterior probability maps for all classes. Create a plot with as many subplots as classes and display one posterior probability map in each. Display a title with the name of the tissue represented by that propability map."
      ]
    },
    {
      "cell_type": "code",
      "metadata": {
        "id": "3ob_DqMgSTZc",
        "colab_type": "code",
        "colab": {}
      },
      "source": [
        "# Predict probabilistic segmentations\n",
        "proba_T1 = model.predict_proba(T1features2D)\n",
        "\n",
        "# Plot all probability maps\n",
        "for i in range(proba_T1.shape[1]):\n",
        "    # take only posteriors for class i\n",
        "    post = proba_T1[:,i]\n",
        "\n",
        "    # reshape to the 3D image\n",
        "    post2D = post.reshape(256,213)\n",
        "    \n",
        "    # display\n",
        "    plt.subplot(1,proba_T1.shape[1],i+1)\n",
        "    plt.imshow(post2D)"
      ],
      "execution_count": 0,
      "outputs": []
    },
    {
      "cell_type": "code",
      "metadata": {
        "id": "RorhgVdzSTZo",
        "colab_type": "code",
        "colab": {}
      },
      "source": [
        "# Predict probabilistic segmentations\n",
        "proba_T2 = model.predict_proba(T2features2D)\n",
        "\n",
        "# Plot all probability maps\n",
        "for i in range(proba_T2.shape[1]):\n",
        "    # take only posteriors for class i\n",
        "    post = proba_T2[:,i]\n",
        "\n",
        "    # reshape to the 3D image\n",
        "    post2D = post.reshape(256,213)\n",
        "    \n",
        "    # display\n",
        "    plt.subplot(1,proba_T2.shape[1],i+1)\n",
        "    plt.imshow(post2D)"
      ],
      "execution_count": 0,
      "outputs": []
    },
    {
      "cell_type": "markdown",
      "metadata": {
        "id": "7Z3IneORSTZt",
        "colab_type": "text"
      },
      "source": [
        "**Task 2.4 [6 marks]**: Predict likelihood function $p(y|\\phi)$ for the intensity ranges of the two images. Display the likelihood next to the histogram (in a figure with two subplots) and compare. Is that what you expected? Try to reason why the likelihood might differ from the histogram. Which classes had PDFs with behaviour that was not expected?"
      ]
    },
    {
      "cell_type": "code",
      "metadata": {
        "id": "vcsLOZFCSTZv",
        "colab_type": "code",
        "colab": {}
      },
      "source": [
        "int_range = np.linspace(0,np.max(T1),200)\n",
        "proba_curves = model.predict_proba(int_range.reshape(-1,1))\n"
      ],
      "execution_count": 0,
      "outputs": []
    },
    {
      "cell_type": "code",
      "metadata": {
        "id": "sKUkd-riSTZz",
        "colab_type": "code",
        "colab": {}
      },
      "source": [
        "# display\n",
        "plt.figure(figsize = [14,10])\n",
        "# plot histogram\n",
        "plt.subplot(211)\n",
        "h2 = plt.hist(T1, bins = 100, density = True)\n",
        "plt.title('Histogram')\n",
        "plt.show"
      ],
      "execution_count": 0,
      "outputs": []
    },
    {
      "cell_type": "code",
      "metadata": {
        "id": "mCStGg8YSTZ3",
        "colab_type": "code",
        "colab": {}
      },
      "source": [
        "# plot posterior probabilities\n",
        "plt.subplot(212)\n",
        "plt.title('Posterior probabilities')\n",
        "plt.xlabel('intensity')\n",
        "plt.ylabel('posterior probability')\n",
        "for i in range(0,3):\n",
        "    plt.plot(int_range,proba_curves[:,i], linewidth = 3, label = 'Class {}'.format(i))\n",
        "plt.legend(loc = 'upper left')"
      ],
      "execution_count": 0,
      "outputs": []
    },
    {
      "cell_type": "markdown",
      "metadata": {
        "id": "SlyrdjBOSTZ9",
        "colab_type": "text"
      },
      "source": [
        "__Answer:__"
      ]
    },
    {
      "cell_type": "markdown",
      "metadata": {
        "id": "GGNsibztSTZ-",
        "colab_type": "text"
      },
      "source": [
        "# Question 3\n",
        "\n",
        "**[Total: 20 marks]**\n",
        "\n",
        "## Random forest from scratch\n",
        "\n",
        "In the lectures we created our own Decision Tree and Bagging classification methods which we implemented in `DecisionTree.py` and `Bagging.py`. Random forest performs bootstrapping and aggregation just like bagging, but on top of that it also performs random selection of features at each node in the decision tree. In this question you will extend the Decision Tree and Bagging functions to create your own Random Forest.\n",
        "\n",
        "**Task 3.1 [2 marks]**  In the box below write what is the effect selecting a random subset of features at each node in terms of reducing the bias or variance of the model and why."
      ]
    },
    {
      "cell_type": "markdown",
      "metadata": {
        "id": "i-F2u2JySTZ_",
        "colab_type": "text"
      },
      "source": [
        "__Answer:__ "
      ]
    },
    {
      "cell_type": "markdown",
      "metadata": {
        "id": "CTUCWvgGSTaB",
        "colab_type": "text"
      },
      "source": [
        "### Getting started\n",
        "\n",
        "The first thing we need to do is import our original `DecisionTree` and `Bagging` modules. We can call the functions from these imported modules using the ```DT.``` or ```BG.``` syntax. Run the code bellow to import the modules."
      ]
    },
    {
      "cell_type": "code",
      "metadata": {
        "id": "-wWDyDyGUlB7",
        "colab_type": "code",
        "outputId": "28100e5e-1814-45b6-eba9-35036953f758",
        "colab": {
          "resources": {
            "http://localhost:8080/nbextensions/google.colab/files.js": {
              "data": "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",
              "ok": true,
              "headers": [
                [
                  "content-type",
                  "application/javascript"
                ]
              ],
              "status": 200,
              "status_text": ""
            }
          },
          "base_uri": "https://localhost:8080/",
          "height": 110
        }
      },
      "source": [
        "from google.colab import files\n",
        "uploaded = files.upload()"
      ],
      "execution_count": 0,
      "outputs": [
        {
          "output_type": "display_data",
          "data": {
            "text/plain": [
              "<IPython.core.display.HTML object>"
            ],
            "text/html": [
              "\n",
              "     <input type=\"file\" id=\"files-63e247a4-a3c5-442a-80d2-da7fb67b2909\" name=\"files[]\" multiple disabled />\n",
              "     <output id=\"result-63e247a4-a3c5-442a-80d2-da7fb67b2909\">\n",
              "      Upload widget is only available when the cell has been executed in the\n",
              "      current browser session. Please rerun this cell to enable.\n",
              "      </output>\n",
              "      <script src=\"/nbextensions/google.colab/files.js\"></script> "
            ]
          },
          "metadata": {
            "tags": []
          }
        },
        {
          "output_type": "stream",
          "text": [
            "Saving Bagging.py to Bagging.py\n",
            "Saving DecisionTree.py to DecisionTree.py\n"
          ],
          "name": "stdout"
        }
      ]
    },
    {
      "cell_type": "code",
      "metadata": {
        "id": "9Ex3mxrVSTaC",
        "colab_type": "code",
        "colab": {}
      },
      "source": [
        "import DecisionTree as DT\n",
        "import Bagging as BG\n",
        "import numpy as np\n",
        "import sys"
      ],
      "execution_count": 0,
      "outputs": []
    },
    {
      "cell_type": "markdown",
      "metadata": {
        "id": "Lf_zjxGSSTaG",
        "colab_type": "text"
      },
      "source": [
        "Training and testing random forests behaves very similarly to that of bagged ensembles of decision trees, with the exception that when optimising for the best split of the data at each node in function `get_best_split`, only a subset of the features is considered. To do that we will write a new fuction `get_feature_subset` where the maximum proportion of features each node is controlled by the variable `max_f`. \n",
        "\n",
        "We will also need to modify several other functions to support the new functionality. The functions that don't need to be modified can be called directly from the imported modules using `DT.` and `BG.` Think very carefully which versions of the functions you need to use to avoid mistakes and loosing marks.\n",
        "\n",
        "### Dataset\n",
        "\n",
        "We will test the new functions on the simulated classification dataset. We will create a two-class problem, creating a dataset with 1000 samples and 10 features, of which 3 will be informative (necessary for the classification) and none redundant. Run the code bellow to create the dataset.\n",
        "\n",
        "More info on the simulated dataset here: https://scikit-learn.org/stable/modules/generated/sklearn.datasets.make_classification.html#sklearn.datasets.make_classification"
      ]
    },
    {
      "cell_type": "code",
      "metadata": {
        "id": "Z8o45dYHSTaH",
        "colab_type": "code",
        "outputId": "dd0d8dc3-ddc1-4567-f817-eb48612c613b",
        "colab": {
          "base_uri": "https://localhost:8080/",
          "height": 70
        }
      },
      "source": [
        "import sklearn.datasets as datasets \n",
        "\n",
        "# Build a classification task using 3 informative features\n",
        "X, y = datasets.make_classification(n_samples=1000, n_features=10, n_informative=3, n_classes=2)\n",
        "\n",
        "print('Number of samples: ', X.shape[0])\n",
        "print('Number of features: ', X.shape[1])\n",
        "print('Size of the label vector: ', y.shape)"
      ],
      "execution_count": 0,
      "outputs": [
        {
          "output_type": "stream",
          "text": [
            "('Number of samples: ', 1000)\n",
            "('Number of features: ', 10)\n",
            "('Size of the label vector: ', (1000,))\n"
          ],
          "name": "stdout"
        }
      ]
    },
    {
      "cell_type": "markdown",
      "metadata": {
        "id": "tXyDVAivSTaO",
        "colab_type": "text"
      },
      "source": [
        "### Select subsets of features\n",
        "\n",
        "**Task 3.2 [4 marks]:** Write a function `get_feature_subset` which, given a number of features `n_features` and the proportion of features to be sampled `max_f`, will return an array `indices`, indicating which features have been selected. This is achieved by random sampling *without replacement*. Complete the code bellow to do that."
      ]
    },
    {
      "cell_type": "code",
      "metadata": {
        "id": "F_nFhcXQSTaP",
        "colab_type": "code",
        "outputId": "07c0189d-c3c1-41b9-a9c2-3cac43208e71",
        "colab": {
          "base_uri": "https://localhost:8080/",
          "height": 52
        }
      },
      "source": [
        "# Complete the code for the function\n",
        "import random\n",
        "def get_feature_subset(n_features,max_f):\n",
        "    \"\"\"       \n",
        "        Returns indices of a random subset of features\n",
        "        input:\n",
        "            n_features: number of features\n",
        "            max_f: the proportion of features available for each node\n",
        "                             \n",
        "        output:\n",
        "            indices: list of selected features \n",
        "    \"\"\"\n",
        "    \n",
        "    # calculate the number of selected features (we were given a proportion of all features)\n",
        "    n_selected = int(max_f * n_features)\n",
        "    # generate indices of randomly selected features (without replacement)\n",
        "    indices = []\n",
        "    for i in range(0,n_selected):\n",
        "      indices.append(random.randint(0,n_features))\n",
        "     \n",
        "    return indices\n",
        "\n",
        "# Test function\n",
        "ind = get_feature_subset(X.shape[1],0.3)\n",
        "print(ind)"
      ],
      "execution_count": 0,
      "outputs": [
        {
          "output_type": "stream",
          "text": [
            "[0, 1, 5]\n"
          ],
          "name": "stdout"
        },
        {
          "output_type": "execute_result",
          "data": {
            "text/plain": [
              "(1000, 10)"
            ]
          },
          "metadata": {
            "tags": []
          },
          "execution_count": 17
        }
      ]
    },
    {
      "cell_type": "markdown",
      "metadata": {
        "id": "d1uBZjAvSTaW",
        "colab_type": "text"
      },
      "source": [
        "### Update get_best_split\n",
        "\n",
        "**Task 3.3 [4 marks]**:  Now edit function ```get_best_split``` below to:\n",
        "1. Call `get_feature_subset` and have it return a random subset features with proportion `max_f`, but only if `max_f` is less than 1.0\n",
        "2. Edit the outer loop (variable `index`) such that it loops only over this subset of features"
      ]
    },
    {
      "cell_type": "code",
      "metadata": {
        "id": "YRsUTNHdSTaY",
        "colab_type": "code",
        "outputId": "0c459065-2ae5-4f10-ea71-d1419c4482d1",
        "colab": {
          "base_uri": "https://localhost:8080/",
          "height": 70
        }
      },
      "source": [
        "def get_best_split(dataset, max_f=1.0):\n",
        "    \"\"\"\n",
        "        Search through all attributes and all possible thresholds to find the best split for the data\n",
        "        input:\n",
        "            dataset = array (n_samples,n_features+1) \n",
        "                    rows are examples \n",
        "                    last column indicates class membership\n",
        "                    remaining columns reflect features/attributes of data\n",
        "            max_f: the proportion of features available for each node\n",
        "                             \n",
        "        output:\n",
        "            dict containing: 1) 'index' : index of feature used for splittling on\n",
        "                             2)  'value': value of threshold split on\n",
        "                             3) 'branches': tuple of data arrays reflecting the optimal split into left and right branches       \n",
        "    \"\"\"\n",
        "    # Extract number of features\n",
        "    n_features = dataset.shape[1]-1\n",
        "\n",
        "#### AMEND CODE HERE ###\n",
        "    # get random feature indices\n",
        "    if max_f < 1.0:\n",
        "        features = get_feature_subset(n_features,max_f) \n",
        "    else:\n",
        "        features=np.arange(n_features)\n",
        "    print('Selected features:', features)\n",
        "        \n",
        "    # identify which labels we have\n",
        "    class_values=np.unique(dataset[:,-1])\n",
        "    \n",
        "    # initalise optimal values prior to refinment\n",
        "    best_cost=sys.float_info.max # initialise to max float\n",
        "    best_value=sys.float_info.max # initialise to max float\n",
        "    best_index=dataset.shape[1]+1 # initialise as greater than total number of features\n",
        "    best_split=tuple() # the best_split variable should contain the output of test_split that corresponds to the optimal cost\n",
        "\n",
        "    \n",
        "#### AMEND CODE HERE ###\n",
        "    # iterate over all selected features/attributes (columns of dataset)\n",
        "    for index in ind: \n",
        "        # Trialling splits defined by each row value for this attribute\n",
        "        for r_index,row in enumerate(dataset):\n",
        "            branches=DT.test_split(index, row[index], dataset)\n",
        "            cost=DT.split_cost(branches,class_values)\n",
        "            if cost < best_cost:\n",
        "                best_cost=cost\n",
        "                best_split=branches\n",
        "                best_index=index\n",
        "                best_value=row[index]\n",
        "\n",
        "                \n",
        "    return {'index':best_index, 'value':best_value, 'branches':best_split}\n",
        "\n",
        "# Test function\n",
        "dataset = np.concatenate([X,y.reshape(-1,1)],axis=1)\n",
        "ans = get_best_split(dataset, 0.3)\n",
        "print('Best index: ',ans['index'])\n",
        "print('Best value: ',round(ans['value'],2))"
      ],
      "execution_count": 0,
      "outputs": [
        {
          "output_type": "stream",
          "text": [
            "('Selected features:', [0, 4, 1])\n",
            "('Best index: ', 0)\n",
            "('Best value: ', -0.82)\n"
          ],
          "name": "stdout"
        }
      ]
    },
    {
      "cell_type": "markdown",
      "metadata": {
        "id": "ULlhAi8mSTag",
        "colab_type": "text"
      },
      "source": [
        "### Update remaining functions\n",
        "\n",
        "Now we need to make sure that the argument `max_f` is passed to all functions that need it. Bellow is the updated function `run_split`. Run the code."
      ]
    },
    {
      "cell_type": "code",
      "metadata": {
        "id": "SKpflQoRSTah",
        "colab_type": "code",
        "colab": {}
      },
      "source": [
        "def run_split(node, max_depth, min_size, depth, max_f=1):\n",
        "     \n",
        "    \"\"\"\n",
        "        Recursively splits nodes until termination criterion is met\n",
        "        input:\n",
        "            node = dict containing: 1) 'index' : index of feature used for splittling on\n",
        "                             2)  'value': value of threshold split on\n",
        "                             3) 'branches': tuple of data arrays reflecting the optimal split into left and right branches\n",
        "            max_depth: int determining max allowable depth for the tree\n",
        "            min_size : int determining minimum number of examples allowed for any branch\n",
        "            depth: current depth of tree \n",
        "            max_f: the proportion of features available for each node            \n",
        "            \n",
        "            \n",
        "        Output:\n",
        "            node: is returned by value and returns a recursion of dicts representing the structure of the whole tree\n",
        "    \"\"\"\n",
        "    left, right = node['branches']\n",
        "    del(node['branches'])\n",
        "    # check for whether all data has been assigned to one branch; if so assign both branches the same label\n",
        "    if left.shape[0]==0 :\n",
        "        node['left'] = node['right'] = DT.to_terminal(right)       \n",
        "        return\n",
        "    if right.shape[0]==0 :\n",
        "        node['left'] = node['right'] = DT.to_terminal(left)       \n",
        "        return\n",
        "    # check for max depth; if exceeded then estimate labels for both branches\n",
        "    if max_depth != None and depth >= max_depth:\n",
        "        node['left'], node['right'] = DT.to_terminal(left), DT.to_terminal(right)\n",
        "        return\n",
        "    # process left child\n",
        "        # in first instance check whether the number of examples reaching the left node are less than the allowed limit\n",
        "        # if so assign as a terminal node, if not then split again\n",
        "    if len(left) <= min_size:\n",
        "        node['left'] = DT.to_terminal(left)\n",
        "    else:\n",
        "        node['left'] = get_best_split(left,max_f)\n",
        "        run_split(node['left'], max_depth, min_size, depth+1,max_f)\n",
        "    \n",
        "    # process right child as for left\n",
        "    if len(right) <= min_size:\n",
        "        node['right'] = DT.to_terminal(right)\n",
        "    else:\n",
        "        node['right'] = get_best_split(right,max_f)\n",
        "        run_split(node['right'], max_depth, min_size, depth+1,max_f)"
      ],
      "execution_count": 0,
      "outputs": []
    },
    {
      "cell_type": "markdown",
      "metadata": {
        "id": "b8t5m4ldSTar",
        "colab_type": "text"
      },
      "source": [
        "**Task 3.4 [ 3 marks]**: Your task is now to edit the function `build_tree`  \n",
        "* to include an optional parameter `max_f`, which allows the user to define a maximum proportion of features to be sampled from at each node\n",
        "\n",
        "* to supply `max_f` to all functions which call `get_best_split` (including itself). \n",
        "\n",
        "Edit each line of code where this is the case."
      ]
    },
    {
      "cell_type": "code",
      "metadata": {
        "id": "iBofEcVdSTas",
        "colab_type": "code",
        "colab": {}
      },
      "source": [
        "def build_tree(train, max_depth=None, min_size=1,max_f=1.0):\n",
        "    \"\"\"\n",
        "    Builds and returns final decision tree\n",
        "    \n",
        "    input:\n",
        "        train : training data array (n_samples,n_features+1)\n",
        "        max_depth: user defined max tree depth (int)\n",
        "        min_size: user defined minimum number of examples per tree tree depth (int)\n",
        "        max_f: the proportion of features available for each node  \n",
        "    \"\"\"\n",
        "    # create a root node split by calling get_best_split on the full training set\n",
        "    root = get_best_split(train,max_f) \n",
        "    # now build the tree using run_split\n",
        "    run_split(root, max_depth, min_size, max_f) \n",
        "    return root"
      ],
      "execution_count": 0,
      "outputs": []
    },
    {
      "cell_type": "markdown",
      "metadata": {
        "id": "L9DCTiDoSTav",
        "colab_type": "text"
      },
      "source": [
        "### Create a Forest\n",
        "\n",
        "Now what remains is to create our forest of trees. \n",
        "\n",
        "Random Forests are exactly the same as bagging _EXCEPT_ that as well as creating bootstrapped samples of examples from the dataset they also randomly sample subsets of features at each node. This means we can continue to use the functions we built for our `Bagging` method but with small edits to ensure that they pass the user defined parameter `max_f` to our new `DecisionTree` functions\n",
        "\n",
        "**Task 3.5 [2 mark]** Edit function `create_bagged_ensemble` to support the new user defined argument `max_f`\n",
        "\n",
        "*Hint:* here you will need to call the build_tree function you defined above."
      ]
    },
    {
      "cell_type": "code",
      "metadata": {
        "id": "lOrL6aceSTaw",
        "colab_type": "code",
        "colab": {}
      },
      "source": [
        "def create_bagged_ensemble(data, max_depth, min_size, n_trees, random_state=42): # 1 mark\n",
        "    \n",
        "    ''' Create a bagged ensemble of decision trees\n",
        "    input:\n",
        "        data: (n_samples,n_features+1) data array\n",
        "        max_depth: max depth of trees\n",
        "        min_size: minimum number of samples allowed in tree leaf nodes\n",
        "        n_trees: total number of trees in the ensemble\n",
        "        random_state: fixes random seed\n",
        "    output:\n",
        "        bagged_ensemble: list of decision trees that make up the bagged ensemble\n",
        "    '''\n",
        "    \n",
        "    bagged_ensemble=[]\n",
        "    for i in range(n_trees):\n",
        "        print('building tree', i)\n",
        "        sample = BG.bootstrap_sample(data, random_state)\n",
        "        tree = None\n",
        "        bagged_ensemble.append(tree)\n",
        "    \n",
        "    return bagged_ensemble"
      ],
      "execution_count": 0,
      "outputs": []
    },
    {
      "cell_type": "markdown",
      "metadata": {
        "id": "d46ZlrdVSTa0",
        "colab_type": "text"
      },
      "source": [
        "### Evaluate\n",
        "\n",
        "The code bellow creates a training and test dataset. Run the code."
      ]
    },
    {
      "cell_type": "code",
      "metadata": {
        "id": "U5PW7K4kSTa1",
        "colab_type": "code",
        "colab": {}
      },
      "source": [
        "from sklearn.model_selection import train_test_split\n",
        "\n",
        "X_train, X_test, y_train, y_test = train_test_split(X, y, test_size=0.33, random_state=42)\n",
        "dataset_train=np.concatenate((X_train,np.expand_dims(y_train,axis=1)),axis=1)\n",
        "dataset_test=np.concatenate((X_test,np.expand_dims(y_test,axis=1)),axis=1)"
      ],
      "execution_count": 0,
      "outputs": []
    },
    {
      "cell_type": "markdown",
      "metadata": {
        "id": "bouNIDpfSTa6",
        "colab_type": "text"
      },
      "source": [
        "We will now evaluate the performance of our new Random Forest and compare it to the performance of a single decision tree. To calculate accuracy, we will predict the labels of the test set using the unchanged funcions `predict` that are already implemented in `Bagging` and `DecisionTree` modules.\n",
        "\n",
        "**Task 3.6 [ 2 marks]**  Build a single decision tree using your newly implemented function and set the parameters as `max_depth=3`, `min_size=1`, `max_f=1.0`. Report the accuracy on the test set. "
      ]
    },
    {
      "cell_type": "code",
      "metadata": {
        "scrolled": true,
        "id": "CxNv6dkoSTa-",
        "colab_type": "code",
        "outputId": "fbb95b4d-4095-4f43-cfb9-47eb555a6c82",
        "colab": {
          "base_uri": "https://localhost:8080/",
          "height": 438
        }
      },
      "source": [
        "# Build the tree\n",
        "tree = build_tree(X_train,3,1,1.0)\n",
        "\n",
        "# Predict on test set\n",
        "#predictions = None\n",
        "\n",
        "# Calculate and print accuracy\n",
        "#print('Accuracy:', round(DT.score(y_test,predictions),2))"
      ],
      "execution_count": 0,
      "outputs": [
        {
          "output_type": "stream",
          "text": [
            "('Selected features:', array([0, 1, 2, 3, 4, 5, 6, 7, 8]))\n",
            "('Selected features:', array([0, 1, 2, 3, 4, 5, 6, 7, 8]))\n",
            "('Selected features:', array([0, 1, 2, 3, 4, 5, 6, 7, 8]))\n"
          ],
          "name": "stdout"
        },
        {
          "output_type": "error",
          "ename": "ValueError",
          "evalue": "ignored",
          "traceback": [
            "\u001b[0;31m\u001b[0m",
            "\u001b[0;31mValueError\u001b[0mTraceback (most recent call last)",
            "\u001b[0;32m<ipython-input-29-6aa815f0fd1e>\u001b[0m in \u001b[0;36m<module>\u001b[0;34m()\u001b[0m\n\u001b[0;32m----> 1\u001b[0;31m \u001b[0mtree\u001b[0m \u001b[0;34m=\u001b[0m \u001b[0mbuild_tree\u001b[0m\u001b[0;34m(\u001b[0m\u001b[0mX_train\u001b[0m\u001b[0;34m,\u001b[0m\u001b[0;36m3\u001b[0m\u001b[0;34m,\u001b[0m\u001b[0;36m1\u001b[0m\u001b[0;34m,\u001b[0m\u001b[0;36m1.0\u001b[0m\u001b[0;34m)\u001b[0m\u001b[0;34m\u001b[0m\u001b[0;34m\u001b[0m\u001b[0m\n\u001b[0m\u001b[1;32m      2\u001b[0m \u001b[0;34m\u001b[0m\u001b[0m\n\u001b[1;32m      3\u001b[0m \u001b[0;31m# Predict on test set\u001b[0m\u001b[0;34m\u001b[0m\u001b[0;34m\u001b[0m\u001b[0;34m\u001b[0m\u001b[0m\n\u001b[1;32m      4\u001b[0m \u001b[0;31m#predictions = None\u001b[0m\u001b[0;34m\u001b[0m\u001b[0;34m\u001b[0m\u001b[0;34m\u001b[0m\u001b[0m\n\u001b[1;32m      5\u001b[0m \u001b[0;34m\u001b[0m\u001b[0m\n",
            "\u001b[0;32m<ipython-input-23-194dcc2d4533>\u001b[0m in \u001b[0;36mbuild_tree\u001b[0;34m(train, max_depth, min_size, max_f)\u001b[0m\n\u001b[1;32m     12\u001b[0m     \u001b[0mroot\u001b[0m \u001b[0;34m=\u001b[0m \u001b[0mget_best_split\u001b[0m\u001b[0;34m(\u001b[0m\u001b[0mtrain\u001b[0m\u001b[0;34m)\u001b[0m\u001b[0;34m\u001b[0m\u001b[0;34m\u001b[0m\u001b[0m\n\u001b[1;32m     13\u001b[0m     \u001b[0;31m# now build the tree using run_split\u001b[0m\u001b[0;34m\u001b[0m\u001b[0;34m\u001b[0m\u001b[0;34m\u001b[0m\u001b[0m\n\u001b[0;32m---> 14\u001b[0;31m     \u001b[0mrun_split\u001b[0m\u001b[0;34m(\u001b[0m\u001b[0mroot\u001b[0m\u001b[0;34m,\u001b[0m \u001b[0mmax_depth\u001b[0m\u001b[0;34m,\u001b[0m \u001b[0mmin_size\u001b[0m\u001b[0;34m,\u001b[0m \u001b[0;36m1\u001b[0m\u001b[0;34m)\u001b[0m\u001b[0;34m\u001b[0m\u001b[0;34m\u001b[0m\u001b[0m\n\u001b[0m\u001b[1;32m     15\u001b[0m     \u001b[0;32mreturn\u001b[0m \u001b[0mroot\u001b[0m\u001b[0;34m\u001b[0m\u001b[0;34m\u001b[0m\u001b[0m\n",
            "\u001b[0;32m<ipython-input-22-0da09d97bfc9>\u001b[0m in \u001b[0;36mrun_split\u001b[0;34m(node, max_depth, min_size, depth, max_f)\u001b[0m\n\u001b[1;32m     36\u001b[0m     \u001b[0;32melse\u001b[0m\u001b[0;34m:\u001b[0m\u001b[0;34m\u001b[0m\u001b[0;34m\u001b[0m\u001b[0m\n\u001b[1;32m     37\u001b[0m         \u001b[0mnode\u001b[0m\u001b[0;34m[\u001b[0m\u001b[0;34m'left'\u001b[0m\u001b[0;34m]\u001b[0m \u001b[0;34m=\u001b[0m \u001b[0mget_best_split\u001b[0m\u001b[0;34m(\u001b[0m\u001b[0mleft\u001b[0m\u001b[0;34m,\u001b[0m\u001b[0mmax_f\u001b[0m\u001b[0;34m)\u001b[0m\u001b[0;34m\u001b[0m\u001b[0;34m\u001b[0m\u001b[0m\n\u001b[0;32m---> 38\u001b[0;31m         \u001b[0mrun_split\u001b[0m\u001b[0;34m(\u001b[0m\u001b[0mnode\u001b[0m\u001b[0;34m[\u001b[0m\u001b[0;34m'left'\u001b[0m\u001b[0;34m]\u001b[0m\u001b[0;34m,\u001b[0m \u001b[0mmax_depth\u001b[0m\u001b[0;34m,\u001b[0m \u001b[0mmin_size\u001b[0m\u001b[0;34m,\u001b[0m \u001b[0mdepth\u001b[0m\u001b[0;34m+\u001b[0m\u001b[0;36m1\u001b[0m\u001b[0;34m,\u001b[0m\u001b[0mmax_f\u001b[0m\u001b[0;34m)\u001b[0m\u001b[0;34m\u001b[0m\u001b[0;34m\u001b[0m\u001b[0m\n\u001b[0m\u001b[1;32m     39\u001b[0m \u001b[0;34m\u001b[0m\u001b[0m\n\u001b[1;32m     40\u001b[0m     \u001b[0;31m# process right child as for left\u001b[0m\u001b[0;34m\u001b[0m\u001b[0;34m\u001b[0m\u001b[0;34m\u001b[0m\u001b[0m\n",
            "\u001b[0;32m<ipython-input-22-0da09d97bfc9>\u001b[0m in \u001b[0;36mrun_split\u001b[0;34m(node, max_depth, min_size, depth, max_f)\u001b[0m\n\u001b[1;32m     36\u001b[0m     \u001b[0;32melse\u001b[0m\u001b[0;34m:\u001b[0m\u001b[0;34m\u001b[0m\u001b[0;34m\u001b[0m\u001b[0m\n\u001b[1;32m     37\u001b[0m         \u001b[0mnode\u001b[0m\u001b[0;34m[\u001b[0m\u001b[0;34m'left'\u001b[0m\u001b[0;34m]\u001b[0m \u001b[0;34m=\u001b[0m \u001b[0mget_best_split\u001b[0m\u001b[0;34m(\u001b[0m\u001b[0mleft\u001b[0m\u001b[0;34m,\u001b[0m\u001b[0mmax_f\u001b[0m\u001b[0;34m)\u001b[0m\u001b[0;34m\u001b[0m\u001b[0;34m\u001b[0m\u001b[0m\n\u001b[0;32m---> 38\u001b[0;31m         \u001b[0mrun_split\u001b[0m\u001b[0;34m(\u001b[0m\u001b[0mnode\u001b[0m\u001b[0;34m[\u001b[0m\u001b[0;34m'left'\u001b[0m\u001b[0;34m]\u001b[0m\u001b[0;34m,\u001b[0m \u001b[0mmax_depth\u001b[0m\u001b[0;34m,\u001b[0m \u001b[0mmin_size\u001b[0m\u001b[0;34m,\u001b[0m \u001b[0mdepth\u001b[0m\u001b[0;34m+\u001b[0m\u001b[0;36m1\u001b[0m\u001b[0;34m,\u001b[0m\u001b[0mmax_f\u001b[0m\u001b[0;34m)\u001b[0m\u001b[0;34m\u001b[0m\u001b[0;34m\u001b[0m\u001b[0m\n\u001b[0m\u001b[1;32m     39\u001b[0m \u001b[0;34m\u001b[0m\u001b[0m\n\u001b[1;32m     40\u001b[0m     \u001b[0;31m# process right child as for left\u001b[0m\u001b[0;34m\u001b[0m\u001b[0;34m\u001b[0m\u001b[0;34m\u001b[0m\u001b[0m\n",
            "\u001b[0;32m<ipython-input-22-0da09d97bfc9>\u001b[0m in \u001b[0;36mrun_split\u001b[0;34m(node, max_depth, min_size, depth, max_f)\u001b[0m\n\u001b[1;32m     27\u001b[0m     \u001b[0;31m# check for max depth; if exceeded then estimate labels for both branches\u001b[0m\u001b[0;34m\u001b[0m\u001b[0;34m\u001b[0m\u001b[0;34m\u001b[0m\u001b[0m\n\u001b[1;32m     28\u001b[0m     \u001b[0;32mif\u001b[0m \u001b[0mmax_depth\u001b[0m \u001b[0;34m!=\u001b[0m \u001b[0mNone\u001b[0m \u001b[0;32mand\u001b[0m \u001b[0mdepth\u001b[0m \u001b[0;34m>=\u001b[0m \u001b[0mmax_depth\u001b[0m\u001b[0;34m:\u001b[0m\u001b[0;34m\u001b[0m\u001b[0;34m\u001b[0m\u001b[0m\n\u001b[0;32m---> 29\u001b[0;31m         \u001b[0mnode\u001b[0m\u001b[0;34m[\u001b[0m\u001b[0;34m'left'\u001b[0m\u001b[0;34m]\u001b[0m\u001b[0;34m,\u001b[0m \u001b[0mnode\u001b[0m\u001b[0;34m[\u001b[0m\u001b[0;34m'right'\u001b[0m\u001b[0;34m]\u001b[0m \u001b[0;34m=\u001b[0m \u001b[0mDT\u001b[0m\u001b[0;34m.\u001b[0m\u001b[0mto_terminal\u001b[0m\u001b[0;34m(\u001b[0m\u001b[0mleft\u001b[0m\u001b[0;34m)\u001b[0m\u001b[0;34m,\u001b[0m \u001b[0mDT\u001b[0m\u001b[0;34m.\u001b[0m\u001b[0mto_terminal\u001b[0m\u001b[0;34m(\u001b[0m\u001b[0mright\u001b[0m\u001b[0;34m)\u001b[0m\u001b[0;34m\u001b[0m\u001b[0;34m\u001b[0m\u001b[0m\n\u001b[0m\u001b[1;32m     30\u001b[0m         \u001b[0;32mreturn\u001b[0m\u001b[0;34m\u001b[0m\u001b[0;34m\u001b[0m\u001b[0m\n\u001b[1;32m     31\u001b[0m     \u001b[0;31m# process left child\u001b[0m\u001b[0;34m\u001b[0m\u001b[0;34m\u001b[0m\u001b[0;34m\u001b[0m\u001b[0m\n",
            "\u001b[0;32m/content/DecisionTree.py\u001b[0m in \u001b[0;36mto_terminal\u001b[0;34m(group)\u001b[0m\n\u001b[1;32m    158\u001b[0m     \"\"\"\n\u001b[1;32m    159\u001b[0m     \u001b[0moutcomes\u001b[0m \u001b[0;34m=\u001b[0m \u001b[0mgroup\u001b[0m\u001b[0;34m[\u001b[0m\u001b[0;34m:\u001b[0m\u001b[0;34m,\u001b[0m\u001b[0;34m-\u001b[0m\u001b[0;36m1\u001b[0m\u001b[0;34m]\u001b[0m\u001b[0;34m\u001b[0m\u001b[0;34m\u001b[0m\u001b[0m\n\u001b[0;32m--> 160\u001b[0;31m     \u001b[0mcounts\u001b[0m \u001b[0;34m=\u001b[0m \u001b[0mnp\u001b[0m\u001b[0;34m.\u001b[0m\u001b[0mbincount\u001b[0m\u001b[0;34m(\u001b[0m\u001b[0moutcomes\u001b[0m\u001b[0;34m.\u001b[0m\u001b[0mastype\u001b[0m\u001b[0;34m(\u001b[0m\u001b[0mint\u001b[0m\u001b[0;34m)\u001b[0m\u001b[0;34m)\u001b[0m\u001b[0;34m\u001b[0m\u001b[0;34m\u001b[0m\u001b[0m\n\u001b[0m\u001b[1;32m    161\u001b[0m     \u001b[0;32mreturn\u001b[0m \u001b[0mnp\u001b[0m\u001b[0;34m.\u001b[0m\u001b[0margmax\u001b[0m\u001b[0;34m(\u001b[0m\u001b[0mcounts\u001b[0m\u001b[0;34m)\u001b[0m\u001b[0;34m\u001b[0m\u001b[0;34m\u001b[0m\u001b[0m\n\u001b[1;32m    162\u001b[0m \u001b[0;34m\u001b[0m\u001b[0m\n",
            "\u001b[0;31mValueError\u001b[0m: 'list' argument must have no negative elements"
          ]
        }
      ]
    },
    {
      "cell_type": "markdown",
      "metadata": {
        "id": "hI8K9Y9ASTbB",
        "colab_type": "text"
      },
      "source": [
        "**Task 3.7 [ 3 marks]**  Build and train your newly implemeted Random Forest with parameters `max_depth=3`, `min_size=1`, `max_f=0.3`, n_trees=10. Report the accuracy on the test set. \n",
        "\n",
        "Note: This might take a while to run."
      ]
    },
    {
      "cell_type": "code",
      "metadata": {
        "id": "TbcqgBdLSTbC",
        "colab_type": "code",
        "colab": {}
      },
      "source": [
        "# Build the forest\n",
        "forest = None\n",
        "\n",
        "# Predict on test set\n",
        "rf_predictions = None\n",
        "\n",
        "# Calculate and print accuracy\n"
      ],
      "execution_count": 0,
      "outputs": []
    },
    {
      "cell_type": "markdown",
      "metadata": {
        "id": "6var-VSISTbF",
        "colab_type": "text"
      },
      "source": [
        "# Question 4\n",
        "\n",
        "**[Total: 20 marks]**\n",
        "\n",
        "## Detecting cancer from histopatological images\n",
        "In this question we will apply feature extractors to classify histopatological images for presence of cancer. More details about the PatchCamelyon dataset can be found here https://github.com/basveeling/pcam.\n",
        "<img src=\"https://github.com/burtonye/ML_Coursework2/blob/master/pcam.jpg?raw=1\" style=\"max-width:100%; width: 100%; max-width: none\">\n",
        "\n",
        "### Load the dataset\n",
        "\n",
        "Run the code bellow to load the dataset from the file `histological_data.npz`."
      ]
    },
    {
      "cell_type": "code",
      "metadata": {
        "id": "9rvgSmr5TOXa",
        "colab_type": "code",
        "outputId": "8d35583a-e12f-4b6c-cfd4-2303230a9a03",
        "colab": {
          "resources": {
            "http://localhost:8080/nbextensions/google.colab/files.js": {
              "data": "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",
              "ok": true,
              "headers": [
                [
                  "content-type",
                  "application/javascript"
                ]
              ],
              "status": 200,
              "status_text": ""
            }
          },
          "base_uri": "https://localhost:8080/",
          "height": 390
        }
      },
      "source": [
        "from google.colab import files\n",
        "uploaded = files.upload()\n",
        "\n"
      ],
      "execution_count": 0,
      "outputs": [
        {
          "output_type": "display_data",
          "data": {
            "text/plain": [
              "<IPython.core.display.HTML object>"
            ],
            "text/html": [
              "\n",
              "     <input type=\"file\" id=\"files-074005f4-b49f-4669-b726-1325fd9e018d\" name=\"files[]\" multiple disabled />\n",
              "     <output id=\"result-074005f4-b49f-4669-b726-1325fd9e018d\">\n",
              "      Upload widget is only available when the cell has been executed in the\n",
              "      current browser session. Please rerun this cell to enable.\n",
              "      </output>\n",
              "      <script src=\"/nbextensions/google.colab/files.js\"></script> "
            ]
          },
          "metadata": {
            "tags": []
          }
        },
        {
          "output_type": "stream",
          "text": [
            "Saving histological_data.npz to histological_data.npz\n"
          ],
          "name": "stdout"
        },
        {
          "output_type": "error",
          "ename": "KeyboardInterrupt",
          "evalue": "ignored",
          "traceback": [
            "\u001b[0;31m\u001b[0m",
            "\u001b[0;31mKeyboardInterrupt\u001b[0mTraceback (most recent call last)",
            "\u001b[0;32m<ipython-input-11-21dc3c638f66>\u001b[0m in \u001b[0;36m<module>\u001b[0;34m()\u001b[0m\n\u001b[1;32m      1\u001b[0m \u001b[0;32mfrom\u001b[0m \u001b[0mgoogle\u001b[0m\u001b[0;34m.\u001b[0m\u001b[0mcolab\u001b[0m \u001b[0;32mimport\u001b[0m \u001b[0mfiles\u001b[0m\u001b[0;34m\u001b[0m\u001b[0;34m\u001b[0m\u001b[0m\n\u001b[0;32m----> 2\u001b[0;31m \u001b[0muploaded\u001b[0m \u001b[0;34m=\u001b[0m \u001b[0mfiles\u001b[0m\u001b[0;34m.\u001b[0m\u001b[0mupload\u001b[0m\u001b[0;34m(\u001b[0m\u001b[0;34m)\u001b[0m\u001b[0;34m\u001b[0m\u001b[0;34m\u001b[0m\u001b[0m\n\u001b[0m",
            "\u001b[0;32m/usr/local/lib/python2.7/dist-packages/google/colab/files.pyc\u001b[0m in \u001b[0;36mupload\u001b[0;34m()\u001b[0m\n\u001b[1;32m     70\u001b[0m     result = _output.eval_js(\n\u001b[1;32m     71\u001b[0m         'google.colab._files._uploadFilesContinue(\"{output_id}\")'.format(\n\u001b[0;32m---> 72\u001b[0;31m             output_id=output_id))\n\u001b[0m\u001b[1;32m     73\u001b[0m     \u001b[0;32mif\u001b[0m \u001b[0mresult\u001b[0m\u001b[0;34m[\u001b[0m\u001b[0;34m'action'\u001b[0m\u001b[0;34m]\u001b[0m \u001b[0;34m!=\u001b[0m \u001b[0;34m'append'\u001b[0m\u001b[0;34m:\u001b[0m\u001b[0;34m\u001b[0m\u001b[0;34m\u001b[0m\u001b[0m\n\u001b[1;32m     74\u001b[0m       \u001b[0;31m# JS side uses a generator of promises to process all of the files- some\u001b[0m\u001b[0;34m\u001b[0m\u001b[0;34m\u001b[0m\u001b[0;34m\u001b[0m\u001b[0m\n",
            "\u001b[0;32m/usr/local/lib/python2.7/dist-packages/google/colab/output/_js.pyc\u001b[0m in \u001b[0;36meval_js\u001b[0;34m(script, ignore_result)\u001b[0m\n\u001b[1;32m     37\u001b[0m   \u001b[0;32mif\u001b[0m \u001b[0mignore_result\u001b[0m\u001b[0;34m:\u001b[0m\u001b[0;34m\u001b[0m\u001b[0;34m\u001b[0m\u001b[0m\n\u001b[1;32m     38\u001b[0m     \u001b[0;32mreturn\u001b[0m\u001b[0;34m\u001b[0m\u001b[0;34m\u001b[0m\u001b[0m\n\u001b[0;32m---> 39\u001b[0;31m   \u001b[0;32mreturn\u001b[0m \u001b[0m_message\u001b[0m\u001b[0;34m.\u001b[0m\u001b[0mread_reply_from_input\u001b[0m\u001b[0;34m(\u001b[0m\u001b[0mrequest_id\u001b[0m\u001b[0;34m)\u001b[0m\u001b[0;34m\u001b[0m\u001b[0;34m\u001b[0m\u001b[0m\n\u001b[0m\u001b[1;32m     40\u001b[0m \u001b[0;34m\u001b[0m\u001b[0m\n\u001b[1;32m     41\u001b[0m \u001b[0;34m\u001b[0m\u001b[0m\n",
            "\u001b[0;32m/usr/local/lib/python2.7/dist-packages/google/colab/_message.pyc\u001b[0m in \u001b[0;36mread_reply_from_input\u001b[0;34m(message_id, timeout_sec)\u001b[0m\n\u001b[1;32m     99\u001b[0m     \u001b[0mreply\u001b[0m \u001b[0;34m=\u001b[0m \u001b[0m_read_next_input_message\u001b[0m\u001b[0;34m(\u001b[0m\u001b[0;34m)\u001b[0m\u001b[0;34m\u001b[0m\u001b[0;34m\u001b[0m\u001b[0m\n\u001b[1;32m    100\u001b[0m     \u001b[0;32mif\u001b[0m \u001b[0mreply\u001b[0m \u001b[0;34m==\u001b[0m \u001b[0m_NOT_READY\u001b[0m \u001b[0;32mor\u001b[0m \u001b[0;32mnot\u001b[0m \u001b[0misinstance\u001b[0m\u001b[0;34m(\u001b[0m\u001b[0mreply\u001b[0m\u001b[0;34m,\u001b[0m \u001b[0mdict\u001b[0m\u001b[0;34m)\u001b[0m\u001b[0;34m:\u001b[0m\u001b[0;34m\u001b[0m\u001b[0;34m\u001b[0m\u001b[0m\n\u001b[0;32m--> 101\u001b[0;31m       \u001b[0mtime\u001b[0m\u001b[0;34m.\u001b[0m\u001b[0msleep\u001b[0m\u001b[0;34m(\u001b[0m\u001b[0;36m0.025\u001b[0m\u001b[0;34m)\u001b[0m\u001b[0;34m\u001b[0m\u001b[0;34m\u001b[0m\u001b[0m\n\u001b[0m\u001b[1;32m    102\u001b[0m       \u001b[0;32mcontinue\u001b[0m\u001b[0;34m\u001b[0m\u001b[0;34m\u001b[0m\u001b[0m\n\u001b[1;32m    103\u001b[0m     if (reply.get('type') == 'colab_reply' and\n",
            "\u001b[0;31mKeyboardInterrupt\u001b[0m: "
          ]
        }
      ]
    },
    {
      "cell_type": "code",
      "metadata": {
        "id": "YkHdOINZTnJ-",
        "colab_type": "code",
        "colab": {}
      },
      "source": [
        "data = np.load(uploaded['histological_data.npz'])\n"
      ],
      "execution_count": 0,
      "outputs": []
    },
    {
      "cell_type": "code",
      "metadata": {
        "id": "P8hMaetKSTbI",
        "colab_type": "code",
        "colab": {}
      },
      "source": [
        "# Load dataset from .npz file\n",
        "data = np.load('histological_data.npz')\n",
        "\n",
        "# Train images and labels\n",
        "X_train = data['X_train']\n",
        "y_train = data['y_train']\n",
        "\n",
        "# Test images and labels\n",
        "X_test  = data['X_test']\n",
        "y_test  = data['y_test']\n",
        "\n",
        "# Print shapes here\n",
        "print('Training data - images:', X_train.shape)\n",
        "print('Training data - labels:',y_train.shape)\n",
        "print('Test data - images:',X_test.shape)\n",
        "print('Test data - labels:',y_test.shape)"
      ],
      "execution_count": 0,
      "outputs": []
    },
    {
      "cell_type": "markdown",
      "metadata": {
        "id": "gqkjmbrcSTbM",
        "colab_type": "text"
      },
      "source": [
        "Let's now plot a few example images"
      ]
    },
    {
      "cell_type": "code",
      "metadata": {
        "id": "fcOZIudnSTbN",
        "colab_type": "code",
        "colab": {}
      },
      "source": [
        "id_images = [4, 5, 6, 7]\n",
        "\n",
        "plt.figure(figsize=(15, 8))\n",
        "for i in np.arange(0, 4):\n",
        "    plt.subplot(1, 4, i+1)\n",
        "    plt.imshow(X_train[id_images[i], :, :], cmap='gray')\n",
        "    plt.title('label: ' + str(y_train[id_images[i]]))"
      ],
      "execution_count": 0,
      "outputs": []
    },
    {
      "cell_type": "markdown",
      "metadata": {
        "id": "uzMZeF48STbR",
        "colab_type": "text"
      },
      "source": [
        "### Feature extraction\n",
        "\n",
        "In the lectures we have seen a number of feature extractors that are available at `skimage`, including `daisy`. Bellow is an example of feature extraction using daisy. Use the code bellow to experiment with the parameters."
      ]
    },
    {
      "cell_type": "code",
      "metadata": {
        "id": "rhzfPBqNSTbS",
        "colab_type": "code",
        "colab": {}
      },
      "source": [
        "from skimage.feature import daisy\n",
        "\n",
        "# example image\n",
        "img = X_train[id_images[i], :, :]\n",
        "\n",
        "# example feature extraction using daisy\n",
        "features_daisy, visualisation_daisy = daisy(img, step=32, radius=8, rings=2, histograms=8, orientations=8, visualize=True)\n",
        "plt.imshow(visualisation_daisy)\n",
        "plt.title('Daisy')\n",
        "# Extracted features\n",
        "print('Feature vector shape daisy: ', features_daisy.shape)"
      ],
      "execution_count": 0,
      "outputs": []
    },
    {
      "cell_type": "markdown",
      "metadata": {
        "id": "CJV96pcbSTbf",
        "colab_type": "text"
      },
      "source": [
        "**Task 4.1 [4 marks]:** In the function bellow implement a feature extractor using `daisy`. The function should accepts a 2D image and return a vector of features. Don't forget to make sure that the feature vector is flattened to 1 dimension. You can start with the parameter setting given above, but you will change the parameters later on."
      ]
    },
    {
      "cell_type": "code",
      "metadata": {
        "id": "pJoRSVoCSTbg",
        "colab_type": "code",
        "colab": {}
      },
      "source": [
        "def my_feature_extractor(image):\n",
        "    return None"
      ],
      "execution_count": 0,
      "outputs": []
    },
    {
      "cell_type": "markdown",
      "metadata": {
        "id": "lei5ab8GSTbq",
        "colab_type": "text"
      },
      "source": [
        "Run the code bellow to perform feature extraction for the whole dataset. It will take a while for it to finish."
      ]
    },
    {
      "cell_type": "code",
      "metadata": {
        "id": "2lzpXL_ESTbu",
        "colab_type": "code",
        "colab": {}
      },
      "source": [
        "# Perform feature extraction on the train/test set\n",
        "\n",
        "# Create empty arrays\n",
        "X_train_features = []\n",
        "X_test_features  = []\n",
        "\n",
        "# Go through all the images, perform feature extraction and then append them to the list\n",
        "for img in X_train:\n",
        "    X_train_features.append(my_feature_extractor(img))\n",
        "for img in X_test:\n",
        "    X_test_features.append(my_feature_extractor(img))\n",
        "    \n",
        "# Make the lists back into numpy arrays\n",
        "X_train_features = np.asarray(X_train_features)\n",
        "X_test_features  = np.asarray(X_test_features)\n",
        "\n",
        "# Print dimensions\n",
        "print('Feature matrix train: ', X_train_features.shape)\n",
        "print('Feature matrix test: ', X_test_features.shape)"
      ],
      "execution_count": 0,
      "outputs": []
    },
    {
      "cell_type": "markdown",
      "metadata": {
        "id": "AS5MkkUISTbx",
        "colab_type": "text"
      },
      "source": [
        "__Task 4.2 [4 marks]:__ In the box bellow explain the meaning of the dimensions of the two matrices, printed by the code in the cell above."
      ]
    },
    {
      "cell_type": "markdown",
      "metadata": {
        "id": "MM7o0eVTSTbz",
        "colab_type": "text"
      },
      "source": [
        "__Answer:__ "
      ]
    },
    {
      "cell_type": "markdown",
      "metadata": {
        "id": "K01TJxlLSTb0",
        "colab_type": "text"
      },
      "source": [
        "__Task 4.3 [8 marks]:__ Bellow you are given a function `PerformanceMeasures` to calculate the performance of a classifier. Furthermore, the features of the training set have been scaled using the `StandardScaler`. You are also given a `RandomForestClassifier` model with parameter `min_samples_leaf = 50` to prevent overfitting due to a large number of extracted features. Complete the code bellow to\n",
        "* fit the `RandomForestClassifier` model to the training data\n",
        "* calculate the performance measures on the training set to spot overfitting\n",
        "* calculate the performance measures on the test set to evaluate performance"
      ]
    },
    {
      "cell_type": "code",
      "metadata": {
        "id": "uzQMj448STb1",
        "colab_type": "code",
        "colab": {}
      },
      "source": [
        "from sklearn.metrics import confusion_matrix\n",
        "from sklearn.preprocessing import StandardScaler\n",
        "\n",
        "def PerformanceMeasures(model,Features,Labels):\n",
        "    Labels_predicted = model.predict(Features)\n",
        "    tn, fp, fn, tp = confusion_matrix(Labels, Labels_predicted).ravel()\n",
        "    accuracy = (tp+tn)/(tp+tn+fp+fn)\n",
        "    specificity = tn/(tn+fp)\n",
        "    sensitivity = tp/(tp+fn)\n",
        "    precision = tp/(tp+fp)\n",
        "    print('Accuracy: ', round(accuracy,2))\n",
        "    print('Sensitivity: ', round(sensitivity,2))\n",
        "    print('Specificity: ', round(specificity,2))\n",
        "    print('Precision: ', round(precision,2))\n",
        "\n",
        "\n",
        "Features = StandardScaler().fit_transform(X_train_features)\n",
        "Labels = y_train\n",
        "\n",
        "# Fit and evaluate a random forest classifier\n",
        "from sklearn.ensemble import RandomForestClassifier\n",
        "model = RandomForestClassifier(n_estimators=50, min_samples_leaf = 50) \n",
        "\n",
        "# fit the model\n",
        "\n",
        "# Calculate performance measures on training set\n",
        "print('Training set:')\n",
        "\n",
        "# Calculate performance measures on test set\n",
        "print('Test set:')\n"
      ],
      "execution_count": 0,
      "outputs": []
    },
    {
      "cell_type": "markdown",
      "metadata": {
        "id": "Wjl6PoqeSTb7",
        "colab_type": "text"
      },
      "source": [
        "__Task 4.4 [4 marks]:__ Try to improve the performance of your classifier by changing the parameters of the feature extractor in the function `my_feature_extractor`. Once you have decided on your favourite parameters, comment on the performance of the classifier in the box bellow."
      ]
    },
    {
      "cell_type": "markdown",
      "metadata": {
        "id": "VdxPDE1bSTb-",
        "colab_type": "text"
      },
      "source": [
        "__Answer:__ "
      ]
    }
  ]
}